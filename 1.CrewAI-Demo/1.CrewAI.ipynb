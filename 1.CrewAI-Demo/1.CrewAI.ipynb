{
 "cells": [
  {
   "cell_type": "code",
   "execution_count": 8,
   "id": "b5a5f4f0",
   "metadata": {},
   "outputs": [],
   "source": [
    "import os\n",
    "from dotenv import load_dotenv"
   ]
  },
  {
   "cell_type": "code",
   "execution_count": 9,
   "id": "f5429905",
   "metadata": {},
   "outputs": [
    {
     "data": {
      "text/plain": [
       "True"
      ]
     },
     "execution_count": 9,
     "metadata": {},
     "output_type": "execute_result"
    }
   ],
   "source": [
    "load_dotenv()"
   ]
  },
  {
   "cell_type": "markdown",
   "id": "6a37b354",
   "metadata": {},
   "source": [
    "### Topics \n",
    "- Crew\n",
    "- Agent\n",
    "- Tasks\n",
    "- LLM\n",
    "- Tool\n",
    "\n",
    "- use the crew > 0.95"
   ]
  },
  {
   "cell_type": "code",
   "execution_count": 10,
   "id": "d04aeee8",
   "metadata": {},
   "outputs": [],
   "source": [
    "! pip install -Uq openai -q"
   ]
  },
  {
   "cell_type": "code",
   "execution_count": 11,
   "id": "90ef555b",
   "metadata": {},
   "outputs": [
    {
     "name": "stdout",
     "output_type": "stream",
     "text": [
      "API key loaded from userdata.\n",
      "Arrr, to check if a Python object be an instance of a class, ye use the `isinstance()` function. Here be how ye do it:\n",
      "\n",
      "```python\n",
      "if isinstance(obj, me_class):\n",
      "    print(\"Aye, 'tis an instance!\")\n",
      "else:\n",
      "    print(\"Nay, it be not!\")\n",
      "```\n",
      "\n",
      "In this here code, `obj` be the object ye want to check, and `me_class` be the class ye be comparin' it with. If `obj` be an instance of `me_class` (or a subclass thereof), `isinstance()` returns true. Otherwise, it returns false. Arrr!\n"
     ]
    }
   ],
   "source": [
    "import os\n",
    "from openai import OpenAI\n",
    "\n",
    "api_key = os.getenv('OPENAI_API_KEY')\n",
    "\n",
    "if api_key:\n",
    "    os.environ[\"OPENAI_API_KEY\"] = api_key\n",
    "    print(\"API key loaded from userdata.\")\n",
    "else:\n",
    "    print(\"API key not found in userdata. Please set OPENAI_API_KEY in userdata.\")\n",
    "\n",
    "################ OPENAI API CHECK ###################\n",
    "\n",
    "client = OpenAI(\n",
    "    api_key = os.environ.get(\"OPENAI_API_KEY\"),\n",
    ")\n",
    "\n",
    "response = client.responses.create(\n",
    "    model=\"gpt-4o\",\n",
    "    instructions=\"You are a coding assistant that talks like a pirate.\",\n",
    "    input=\"How do I check if a Python object is an instance of a class?\",\n",
    ")\n",
    "\n",
    "print(response.output_text)"
   ]
  },
  {
   "cell_type": "code",
   "execution_count": 14,
   "id": "8c1ad996",
   "metadata": {},
   "outputs": [],
   "source": [
    "#Install Crewai\n",
    "! pip install -q crewai"
   ]
  },
  {
   "cell_type": "code",
   "execution_count": 15,
   "id": "47fecda6",
   "metadata": {},
   "outputs": [],
   "source": [
    "#Step 2 : Import Libraries\n",
    "from crewai import Agent,Task,Crew"
   ]
  },
  {
   "cell_type": "code",
   "execution_count": null,
   "id": "f6a40d32",
   "metadata": {},
   "outputs": [],
   "source": [
    "# Step 3: Define a simple agent\n",
    "agent1 = Agent(\n",
    "    name = \"Researcher\",\n",
    "    description = \"An AI agent that researches and gathers information.\",\n",
    "    goal = \"Find relevant information on a given topic.\",\n",
    "    role = \"Researcher\", # Added role\n",
    "    backstory = \"An AI assistant designed for research tasks.\" # Added backstory\n",
    ")\n"
   ]
  },
  {
   "cell_type": "code",
   "execution_count": null,
   "id": "0392fd2a",
   "metadata": {},
   "outputs": [],
   "source": [
    "\n",
    "# Step 4: Create a simple task\n",
    "research_task = Task(\n",
    "    name = \"Research Task\",\n",
    "    description =  \"Search for the latest advancements in AI and summarize them.\",\n",
    "    agent = agent1,\n",
    "    expected_output = \"A summary of the latest advancements in AI\" # Added expected output\n",
    ")\n",
    "\n"
   ]
  },
  {
   "cell_type": "code",
   "execution_count": 21,
   "id": "5a2d07d1",
   "metadata": {},
   "outputs": [
    {
     "data": {
      "text/plain": [
       "CrewOutput(raw='As of late 2023, several remarkable advancements in artificial intelligence have been made across various domains, showcasing the rapid growth and integration of AI technologies in our daily lives and industries. Below are some of the latest key advancements:\\n\\n1. **Generative AI Models**: The development of large-scale generative models, primarily in the realms of text, image, and even video generation, has seen significant improvements. Models like ChatGPT, DALL-E, and others have not only enhanced their capabilities in producing high-quality content but have also integrated more nuanced understanding of context and semantics, leading to outputs that are more contextually appropriate and aesthetically pleasing.\\n\\n2. **Multimodal AI**: The integration of different types of data inputs (text, audio, image, and video) into a single AI model has gained momentum. This allows for more cohesive and versatile AI applications that can perform tasks by interpreting and combining various data types seamlessly, enhancing human-like understanding and engagement.\\n\\n3. **AI in Healthcare**: AI technologies have made significant strides in the healthcare sector, particularly in personalized medicine, diagnostics, and drug discovery. Machine learning algorithms are analyzing genetic data to tailor treatments to individual patients, while AI systems are improving diagnostic accuracy by interpreting medical imagery with efficiency and precision that rivals or exceeds human specialists.\\n\\n4. **Autonomous Systems**: AI advancements in autonomous vehicles have been noteworthy, with improved algorithms allowing for safer navigation in complex environments. Companies are now incorporating AI not only in self-driving cars but in drones, delivery robots, and other autonomous systems, leading to widespread applications and ongoing refinement of safety measures and technology reliability.\\n\\n5. **AI Ethics and Governance**: There have been significant developments in the governance of AI, with more frameworks and regulations aimed at ensuring ethical use, accountability, and transparency. Organizations and governments are increasingly prioritizing responsible AI practices, focusing on mitigating biases, protecting user data, and establishing standards for AI deployment in various sectors.\\n\\n6. **Natural Language Processing (NLP)**: Recent improvements in NLP have enabled more effective human-computer interaction. Breakthroughs include better sentiment analysis, conversational AI, and translation systems that have made machines more adept at understanding and generating human language, fostering improved user experiences across applications from customer support to content creation.\\n\\n7. **AI in Creative Fields**: The use of AI in creative industries, such as music, art, and writing, has led to new forms of artistry and collaboration. Artists and creators are increasingly leveraging AI tools to inspire and augment their creative processes, pushing the boundaries of traditional artistic expressions.\\n\\nOverall, the advancements in AI are reshaping various sectors, driving efficiency, creativity, and innovation while also sparking important discussions about ethics and the future of human-AI collaboration. As we move forward, the integration of AI is likely to become even deeper and more impactful across all facets of society.', pydantic=None, json_dict=None, tasks_output=[TaskOutput(description='Search for the latest advancements in AI and summarize them.', name='Research Task', expected_output='A summary of the latest advancements in AI', summary='Search for the latest advancements in AI and summarize them....', raw='As of late 2023, several remarkable advancements in artificial intelligence have been made across various domains, showcasing the rapid growth and integration of AI technologies in our daily lives and industries. Below are some of the latest key advancements:\\n\\n1. **Generative AI Models**: The development of large-scale generative models, primarily in the realms of text, image, and even video generation, has seen significant improvements. Models like ChatGPT, DALL-E, and others have not only enhanced their capabilities in producing high-quality content but have also integrated more nuanced understanding of context and semantics, leading to outputs that are more contextually appropriate and aesthetically pleasing.\\n\\n2. **Multimodal AI**: The integration of different types of data inputs (text, audio, image, and video) into a single AI model has gained momentum. This allows for more cohesive and versatile AI applications that can perform tasks by interpreting and combining various data types seamlessly, enhancing human-like understanding and engagement.\\n\\n3. **AI in Healthcare**: AI technologies have made significant strides in the healthcare sector, particularly in personalized medicine, diagnostics, and drug discovery. Machine learning algorithms are analyzing genetic data to tailor treatments to individual patients, while AI systems are improving diagnostic accuracy by interpreting medical imagery with efficiency and precision that rivals or exceeds human specialists.\\n\\n4. **Autonomous Systems**: AI advancements in autonomous vehicles have been noteworthy, with improved algorithms allowing for safer navigation in complex environments. Companies are now incorporating AI not only in self-driving cars but in drones, delivery robots, and other autonomous systems, leading to widespread applications and ongoing refinement of safety measures and technology reliability.\\n\\n5. **AI Ethics and Governance**: There have been significant developments in the governance of AI, with more frameworks and regulations aimed at ensuring ethical use, accountability, and transparency. Organizations and governments are increasingly prioritizing responsible AI practices, focusing on mitigating biases, protecting user data, and establishing standards for AI deployment in various sectors.\\n\\n6. **Natural Language Processing (NLP)**: Recent improvements in NLP have enabled more effective human-computer interaction. Breakthroughs include better sentiment analysis, conversational AI, and translation systems that have made machines more adept at understanding and generating human language, fostering improved user experiences across applications from customer support to content creation.\\n\\n7. **AI in Creative Fields**: The use of AI in creative industries, such as music, art, and writing, has led to new forms of artistry and collaboration. Artists and creators are increasingly leveraging AI tools to inspire and augment their creative processes, pushing the boundaries of traditional artistic expressions.\\n\\nOverall, the advancements in AI are reshaping various sectors, driving efficiency, creativity, and innovation while also sparking important discussions about ethics and the future of human-AI collaboration. As we move forward, the integration of AI is likely to become even deeper and more impactful across all facets of society.', pydantic=None, json_dict=None, agent='Researcher', output_format=<OutputFormat.RAW: 'raw'>)], token_usage=UsageMetrics(total_tokens=1540, prompt_tokens=354, cached_prompt_tokens=0, completion_tokens=1186, successful_requests=2))"
      ]
     },
     "execution_count": 21,
     "metadata": {},
     "output_type": "execute_result"
    }
   ],
   "source": [
    "# Step 5: Initialize a crew (single agent for now)\n",
    "crew = Crew(agents = [agent1], tasks = [research_task])\n",
    "crew.kickoff()"
   ]
  },
  {
   "cell_type": "code",
   "execution_count": 23,
   "id": "9cbdf2d7",
   "metadata": {},
   "outputs": [],
   "source": [
    "# First cell\n",
    "from crewai import LLM\n",
    "\n",
    "\n",
    "# Basic configuration\n",
    "llm = LLM(model=\"gpt-4\")\n",
    "\n",
    "# Advanced configuration with detailed parameters\n",
    "llm = LLM(\n",
    "    model=\"gpt-4o-mini\",\n",
    "    temperature=0.7,         # Higher for more creative outputs\n",
    "    timeout=120,             # Seconds to wait for response\n",
    "    max_tokens=4000,         # Maximum length of response\n",
    "    top_p=0.9,               # Nucleus sampling parameter\n",
    "    frequency_penalty=0.1,   # Reduce repetition\n",
    "    presence_penalty=0.1,    # Encourage topic diversity\n",
    "    response_format={\"type\": \"json\"}, # For structured outputs\n",
    "    seed=42                  # For reproducible results\n",
    ")\n"
   ]
  },
  {
   "cell_type": "code",
   "execution_count": null,
   "id": "8ef456d5",
   "metadata": {},
   "outputs": [],
   "source": [
    "# Advanced configuration with detailed parameters\n",
    "llm = LLM(\n",
    "    model = \"groq/llama-3.2-9b-text-preview\",\n",
    "    temperature = 0.7,         # Higher for more creative outputs\n",
    "    timeout = 120,             # Seconds to wait for response\n",
    "    max_tokens = 4000,         # Maximum length of response\n",
    "    top_p  = 0.9,               # Nucleus sampling parameter\n",
    "    frequency_penalty = 0.1,   # Reduce repetition\n",
    "    presence_penalty=  0.1,    # Encourage topic diversity\n",
    "    response_format = {\"type\": \"json\"}, # For structured outputs\n",
    "    seed=42                  # For reproducible results\n",
    ")\n"
   ]
  },
  {
   "cell_type": "code",
   "execution_count": 25,
   "id": "97c81f5a",
   "metadata": {},
   "outputs": [
    {
     "data": {
      "text/plain": [
       "<crewai.llm.LLM at 0x1badbc2e2a0>"
      ]
     },
     "execution_count": 25,
     "metadata": {},
     "output_type": "execute_result"
    }
   ],
   "source": [
    "llm"
   ]
  },
  {
   "cell_type": "markdown",
   "id": "082ffc1f",
   "metadata": {},
   "source": [
    "### Multi-Agent Colabaration and Workflow"
   ]
  },
  {
   "cell_type": "code",
   "execution_count": 26,
   "id": "383b9e48",
   "metadata": {},
   "outputs": [],
   "source": [
    "# Step 6: Define multiple agents\n",
    "agent2 = Agent(\n",
    "    name=\"Writer\",\n",
    "    description=\"An AI agent that writes research reports\",\n",
    "    goal=\"Create structured reports from gathered research data.\",\n",
    "    role=\"Writer\", # Added role\n",
    "    backstory=\"An AI assistant designed for writing reports.\" # Added backstory\n",
    ")\n",
    "\n",
    "agent3 = Agent(\n",
    "    name=\"Reviewer\",\n",
    "    description=\"An AI agent that reviews and refines reports.\",\n",
    "    goal=\"Ensure clarity, grammar, and accuracy in written content.\",\n",
    "    role=\"Reviewer\", # Added role\n",
    "    backstory=\"An AI assistant designed for reviewing reports.\" # Added backstory\n",
    ")"
   ]
  },
  {
   "cell_type": "code",
   "execution_count": 27,
   "id": "93f3dd90",
   "metadata": {},
   "outputs": [],
   "source": [
    "# Step 7: Assign tasks to each agent\n",
    "gather_info = Task(\n",
    "    name=\"Gather Information\",\n",
    "    description=\"Find the latest research papers and summarize key findings.\",\n",
    "    agent=agent1,\n",
    "    expected_output=\"A summary of key findings from recent research papers.\" # Added expected output\n",
    ")\n",
    "\n",
    "write_report = Task(\n",
    "    name=\"Write Research Report\",\n",
    "    description=\"Use summarized research to create a structured report.\",\n",
    "    agent=agent2,\n",
    "    expected_output=\"A structured research report based on the summarized findings.\" # Added expected output\n",
    ")\n",
    "\n",
    "review_report = Task(\n",
    "    name=\"Review Report\",\n",
    "    description=\"Check the report for accuracy and clarity.\",\n",
    "    agent=agent3,\n",
    "    expected_output=\"A reviewed and refined research report.\" # Added expected output\n",
    ")"
   ]
  },
  {
   "cell_type": "code",
   "execution_count": null,
   "id": "676978b9",
   "metadata": {},
   "outputs": [
    {
     "data": {
      "text/plain": [
       "CrewOutput(raw='# Advances in Modern Technologies Across Multiple Disciplines: A Comprehensive Review\\n\\n## Introduction\\nThe rapid advancement of technology in various fields such as medical imaging, genome editing, renewable energy, and workplace environments has facilitated novel methodologies and applications with transformative potential. This report synthesizes the findings from four key studies, each contributing to the understanding and implementation of innovative technologies. These studies focus on the integration of Artificial Intelligence (AI) in medical imaging, the applications of CRISPR technology in genome editing, innovations in solar panel technologies, and the effects of remote work on employee productivity.\\n\\n### Study Summaries\\n\\n#### 1. Artificial Intelligence and Machine Learning in Medical Imaging\\n- **Authors**: Tanmay Dutta et al.  \\n- **Journal**: Medical Imaging 2023  \\n- **Published**: August 2023  \\n- **Key Findings**: \\n  - AI and machine learning significantly enhance the accuracy of diagnostic imaging, particularly in oncology and radiology.\\n  - Integration of AI technologies into clinical practice is crucial, while ethical considerations and algorithmic biases must be addressed.\\n  - The future of medical imaging relies on standardized protocols and collaborative efforts among healthcare professionals and technology developers.\\n\\n#### 2. CRISPR Technology in Genome Editing\\n- **Authors**: Li Wei and Marta Sanchez  \\n- **Journal**: Biotechnology Advances  \\n- **Published**: July 2023  \\n- **Key Findings**: \\n  - CRISPR technology has revolutionized gene therapy, significantly impacting treatment protocols for genetic disorders such as sickle cell disease and muscular dystrophy.\\n  - Continued research is needed to develop effective delivery mechanisms to maximize therapeutic efficacy and minimize off-target effects.\\n  - The authors advocate for stringent regulatory frameworks to oversee the application of CRISPR in human therapies, ensuring safety and efficacy.\\n\\n#### 3. Innovations in Solar Panel Technologies\\n- **Authors**: Emily Johnson et al.  \\n- **Journal**: Renewable Energy Research  \\n- **Published**: September 2023  \\n- **Key Findings**: \\n  - Perovskite solar cells offer higher efficiency rates at lower production costs compared to traditional silicon-based options.\\n  - Addressing challenges related to manufacturing scalability and long-term stability is essential for broader adoption of solar technology.\\n  - Hybrid systems that combine perovskite and silicon technology hold promise for optimizing solar energy output, making renewables more competitive against fossil fuels.\\n\\n#### 4. The Impact of Remote Work on Employee Productivity\\n- **Authors**: Richard Clayton and Sarah Hughes  \\n- **Journal**: Journal of Business Research  \\n- **Published**: October 2023  \\n- **Key Findings**: \\n  - Remote work has shown to increase productivity by 15%-20% due to flexible hours and reduced commuting time.\\n  - The variability in productivity gains is notable across different industries and roles.\\n  - Maintaining team cohesion and providing adequate resources are crucial for sustaining productivity in remote work settings, leading to the recommendation of hybrid work models.\\n\\n## Conclusion\\nThe findings from these studies collectively highlight the transformative impact of advanced technologies across various sectors. As AI continues to refine diagnostic practices in healthcare, and CRISPR technology revolutionizes gene editing, the energy sector is innovating with new solar technologies to foster sustainability. Furthermore, the shift to remote work necessitates a reevaluation of productivity metrics and workforce dynamics. Future research and collaborative efforts across these fields will be critical in overcoming challenges and ensuring that these technologies are harnessed effectively for societal benefit. Implementing standardized protocols, regulatory oversight, and a hybrid work approach could pave the way for sustainable and innovative practices in the years to come. \\n\\n## Recommendations\\n- Encourage interdisciplinary collaborations to ensure ethical and practical implementations of AI in medicine.\\n- Advocate for regulatory frameworks that will govern the safe use of CRISPR technology in human gene therapies.\\n- Invest in research aimed at boosting the scalability and stability of new solar technologies for widespread adoption.\\n- Foster environments that support hybrid work models to balance productivity and team cohesion.\\n\\nThis report underscores the necessity of continual research and vigilance in ethical practices as we embrace these technological advancements.', pydantic=None, json_dict=None, tasks_output=[TaskOutput(description='Find the latest research papers and summarize key findings.', name='Gather Information', expected_output='A summary of key findings from recent research papers.', summary='Find the latest research papers and summarize key findings....', raw='1. **Title**: \"Artificial Intelligence and Machine Learning in Medical Imaging: A Review of Progress and Future Directions\"  \\n   **Authors**: Tanmay Dutta et al.  \\n   **Journal**: Medical Imaging 2023 (Published August 2023)  \\n   **Key Findings**: This review highlights the rapid advancements in artificial intelligence (AI) and machine learning (ML) technologies in the field of medical imaging. Key findings indicate that AI algorithms significantly improve the accuracy of diagnostic imaging, particularly in oncology and radiology. The paper emphasizes the importance of integrating these technologies into clinical practice while addressing ethical considerations and potential biases in algorithm training data. Future directions include the need for standardized protocols and collaborative efforts among clinicians, engineers, and regulatory bodies.\\n\\n2. **Title**: \"CRISPR Technology in Genome Editing: Current Applications and Future Prospects\"  \\n   **Authors**: Li Wei and Marta Sanchez  \\n   **Journal**: Biotechnology Advances (Published July 2023)  \\n   **Key Findings**: The paper discusses the state-of-the-art developments in CRISPR technology for genome editing. It outlines current applications in agriculture, medicine, and biotechnology. Key findings demonstrate that CRISPR has transformed gene therapy protocols for genetic disorders like sickle cell disease and muscular dystrophy. Furthermore, the researchers emphasize the need for improved delivery mechanisms to enhance therapeutic effectiveness and minimize off-target effects. The review concludes with a call for rigorous regulatory frameworks to oversee CRISPR-based therapies in humans.\\n\\n3. **Title**: \"Sustainable Energy Solutions: Innovations in Solar Panel Technologies\"  \\n   **Authors**: Emily Johnson et al.  \\n   **Journal**: Renewable Energy Research (Published September 2023)  \\n   **Key Findings**: This research presents groundbreaking innovations in solar panel technology, focusing on perovskite solar cells. The authors detail how these new materials can achieve higher efficiency rates at lower production costs compared to traditional silicon-based panels. Key findings suggest that scalability of manufacturing and long-term stability remain challenges that need to be addressed. The study highlights the potential of hybrid systems combining perovskite and silicon to optimize solar energy output and make renewable energy sources more competitive with fossil fuels.\\n\\n4. **Title**: \"The Impact of Remote Work on Employee Productivity: A Meta-Analysis\"  \\n   **Authors**: Richard Clayton and Sarah Hughes  \\n   **Journal**: Journal of Business Research (Published October 2023)  \\n   **Key Findings**: This meta-analysis reviews multiple studies to evaluate the effects of remote work on productivity across various industries. Key findings indicate that remote work can lead to a 15%-20% increase in productivity due to flexible work hours and reduced commuting time. However, the study also reveals that productivity gains vary widely by industry and role. The authors stress the importance of providing adequate resources and maintaining team cohesion to sustain productivity in a remote working environment. The findings advocate for hybrid work models as a balanced approach moving forward.\\n\\nEach paper contributes valuable insights to their respective fields, demonstrating the ongoing development of technologies and methodologies that can shape future practices and policies.', pydantic=None, json_dict=None, agent='Researcher', output_format=<OutputFormat.RAW: 'raw'>), TaskOutput(description='Use summarized research to create a structured report.', name='Write Research Report', expected_output='A structured research report based on the summarized findings.', summary='Use summarized research to create a structured report....', raw='# Structured Research Report\\n\\n## Title: Advances in Modern Technologies Across Multiple Disciplines: A Comprehensive Review\\n\\n### Introduction\\nThe rapid advancement of technology in various fields such as medical imaging, genome editing, renewable energy, and workplace environments has facilitated novel methodologies and applications with transformative potential. This report synthesizes the findings from four key studies, each contributing to the understanding and implementation of innovative technologies. These studies focus on the integration of Artificial Intelligence (AI) in medical imaging, the applications of CRISPR technology in genome editing, innovations in solar panel technologies, and the effects of remote work on employee productivity.\\n\\n### Study Summaries\\n\\n#### 1. Artificial Intelligence and Machine Learning in Medical Imaging\\n- **Authors**: Tanmay Dutta et al.  \\n- **Journal**: Medical Imaging 2023  \\n- **Published**: August 2023  \\n- **Key Findings**: \\n  - AI and machine learning significantly enhance the accuracy of diagnostic imaging, particularly in oncology and radiology.\\n  - Integration of AI technologies into clinical practice is crucial, while ethical considerations and algorithmic biases must be addressed.\\n  - The future of medical imaging relies on standardized protocols and collaborative efforts among healthcare professionals and technology developers.\\n\\n#### 2. CRISPR Technology in Genome Editing\\n- **Authors**: Li Wei and Marta Sanchez  \\n- **Journal**: Biotechnology Advances  \\n- **Published**: July 2023  \\n- **Key Findings**: \\n  - CRISPR technology has revolutionized gene therapy, significantly impacting treatment protocols for genetic disorders such as sickle cell disease and muscular dystrophy.\\n  - Continued research is needed to develop effective delivery mechanisms to maximize therapeutic efficacy and minimize off-target effects.\\n  - The authors advocate for stringent regulatory frameworks to oversee the application of CRISPR in human therapies, ensuring safety and efficacy.\\n\\n#### 3. Innovations in Solar Panel Technologies\\n- **Authors**: Emily Johnson et al.  \\n- **Journal**: Renewable Energy Research  \\n- **Published**: September 2023  \\n- **Key Findings**: \\n  - Perovskite solar cells offer higher efficiency rates at lower production costs compared to traditional silicon-based options.\\n  - Addressing challenges related to manufacturing scalability and long-term stability is essential for broader adoption of solar technology.\\n  - Hybrid systems that combine perovskite and silicon technology hold promise for optimizing solar energy output, making renewables more competitive against fossil fuels.\\n\\n#### 4. The Impact of Remote Work on Employee Productivity\\n- **Authors**: Richard Clayton and Sarah Hughes  \\n- **Journal**: Journal of Business Research  \\n- **Published**: October 2023  \\n- **Key Findings**: \\n  - Remote work has shown to increase productivity by 15%-20% due to flexible hours and reduced commuting time.\\n  - The variability in productivity gains is notable across different industries and roles.\\n  - Maintaining team cohesion and providing adequate resources are crucial for sustaining productivity in remote work settings, leading to the recommendation of hybrid work models.\\n\\n### Conclusion\\nThe findings from these studies collectively highlight the transformative impact of advanced technologies across various sectors. As AI continues to refine diagnostic practices in healthcare, and CRISPR technology revolutionizes gene editing, the energy sector is innovating with new solar technologies to foster sustainability. Furthermore, the shift to remote work necessitates a reevaluation of productivity metrics and workforce dynamics. Future research and collaborative efforts across these fields will be critical in overcoming challenges and ensuring that these technologies are harnessed effectively for societal benefit. Implementing standardized protocols, regulatory oversight, and a hybrid work approach could pave the way for sustainable and innovative practices in the years to come. \\n\\n### Recommendations\\n- Encourage interdisciplinary collaborations to ensure ethical and practical implementations of AI in medicine.\\n- Advocate for regulatory frameworks that will govern the safe use of CRISPR technology in human gene therapies.\\n- Invest in research aimed at boosting the scalability and stability of new solar technologies for widespread adoption.\\n- Foster environments that support hybrid work models to balance productivity and team cohesion.\\n\\nThis report underscores the necessity of continual research and vigilance in ethical practices as we embrace these technological advancements.', pydantic=None, json_dict=None, agent='Writer', output_format=<OutputFormat.RAW: 'raw'>), TaskOutput(description='Check the report for accuracy and clarity.', name='Review Report', expected_output='A reviewed and refined research report.', summary='Check the report for accuracy and clarity....', raw='# Advances in Modern Technologies Across Multiple Disciplines: A Comprehensive Review\\n\\n## Introduction\\nThe rapid advancement of technology in various fields such as medical imaging, genome editing, renewable energy, and workplace environments has facilitated novel methodologies and applications with transformative potential. This report synthesizes the findings from four key studies, each contributing to the understanding and implementation of innovative technologies. These studies focus on the integration of Artificial Intelligence (AI) in medical imaging, the applications of CRISPR technology in genome editing, innovations in solar panel technologies, and the effects of remote work on employee productivity.\\n\\n### Study Summaries\\n\\n#### 1. Artificial Intelligence and Machine Learning in Medical Imaging\\n- **Authors**: Tanmay Dutta et al.  \\n- **Journal**: Medical Imaging 2023  \\n- **Published**: August 2023  \\n- **Key Findings**: \\n  - AI and machine learning significantly enhance the accuracy of diagnostic imaging, particularly in oncology and radiology.\\n  - Integration of AI technologies into clinical practice is crucial, while ethical considerations and algorithmic biases must be addressed.\\n  - The future of medical imaging relies on standardized protocols and collaborative efforts among healthcare professionals and technology developers.\\n\\n#### 2. CRISPR Technology in Genome Editing\\n- **Authors**: Li Wei and Marta Sanchez  \\n- **Journal**: Biotechnology Advances  \\n- **Published**: July 2023  \\n- **Key Findings**: \\n  - CRISPR technology has revolutionized gene therapy, significantly impacting treatment protocols for genetic disorders such as sickle cell disease and muscular dystrophy.\\n  - Continued research is needed to develop effective delivery mechanisms to maximize therapeutic efficacy and minimize off-target effects.\\n  - The authors advocate for stringent regulatory frameworks to oversee the application of CRISPR in human therapies, ensuring safety and efficacy.\\n\\n#### 3. Innovations in Solar Panel Technologies\\n- **Authors**: Emily Johnson et al.  \\n- **Journal**: Renewable Energy Research  \\n- **Published**: September 2023  \\n- **Key Findings**: \\n  - Perovskite solar cells offer higher efficiency rates at lower production costs compared to traditional silicon-based options.\\n  - Addressing challenges related to manufacturing scalability and long-term stability is essential for broader adoption of solar technology.\\n  - Hybrid systems that combine perovskite and silicon technology hold promise for optimizing solar energy output, making renewables more competitive against fossil fuels.\\n\\n#### 4. The Impact of Remote Work on Employee Productivity\\n- **Authors**: Richard Clayton and Sarah Hughes  \\n- **Journal**: Journal of Business Research  \\n- **Published**: October 2023  \\n- **Key Findings**: \\n  - Remote work has shown to increase productivity by 15%-20% due to flexible hours and reduced commuting time.\\n  - The variability in productivity gains is notable across different industries and roles.\\n  - Maintaining team cohesion and providing adequate resources are crucial for sustaining productivity in remote work settings, leading to the recommendation of hybrid work models.\\n\\n## Conclusion\\nThe findings from these studies collectively highlight the transformative impact of advanced technologies across various sectors. As AI continues to refine diagnostic practices in healthcare, and CRISPR technology revolutionizes gene editing, the energy sector is innovating with new solar technologies to foster sustainability. Furthermore, the shift to remote work necessitates a reevaluation of productivity metrics and workforce dynamics. Future research and collaborative efforts across these fields will be critical in overcoming challenges and ensuring that these technologies are harnessed effectively for societal benefit. Implementing standardized protocols, regulatory oversight, and a hybrid work approach could pave the way for sustainable and innovative practices in the years to come. \\n\\n## Recommendations\\n- Encourage interdisciplinary collaborations to ensure ethical and practical implementations of AI in medicine.\\n- Advocate for regulatory frameworks that will govern the safe use of CRISPR technology in human gene therapies.\\n- Invest in research aimed at boosting the scalability and stability of new solar technologies for widespread adoption.\\n- Foster environments that support hybrid work models to balance productivity and team cohesion.\\n\\nThis report underscores the necessity of continual research and vigilance in ethical practices as we embrace these technological advancements.', pydantic=None, json_dict=None, agent='Reviewer', output_format=<OutputFormat.RAW: 'raw'>)], token_usage=UsageMetrics(total_tokens=6498, prompt_tokens=2988, cached_prompt_tokens=0, completion_tokens=3510, successful_requests=5))"
      ]
     },
     "execution_count": 28,
     "metadata": {},
     "output_type": "execute_result"
    }
   ],
   "source": [
    "# Step 8: Create a Crew with multiple agents\n",
    "multi_agent_crew = Crew(\n",
    "    agents = [agent1, agent2, agent3],\n",
    "    tasks = [gather_info, write_report, review_report]\n",
    ")\n",
    "\n",
    "multi_agent_crew.kickoff()"
   ]
  },
  {
   "cell_type": "markdown",
   "id": "0e00a129",
   "metadata": {},
   "source": []
  },
  {
   "cell_type": "code",
   "execution_count": null,
   "id": "0b8dbc6c",
   "metadata": {},
   "outputs": [],
   "source": []
  },
  {
   "cell_type": "code",
   "execution_count": null,
   "id": "09808b77",
   "metadata": {},
   "outputs": [],
   "source": []
  },
  {
   "cell_type": "code",
   "execution_count": null,
   "id": "716cb47e",
   "metadata": {},
   "outputs": [],
   "source": []
  },
  {
   "cell_type": "code",
   "execution_count": null,
   "id": "a8941cf9",
   "metadata": {},
   "outputs": [],
   "source": []
  },
  {
   "cell_type": "code",
   "execution_count": null,
   "id": "588890a6",
   "metadata": {},
   "outputs": [],
   "source": []
  }
 ],
 "metadata": {
  "kernelspec": {
   "display_name": "crewai_env",
   "language": "python",
   "name": "python3"
  },
  "language_info": {
   "codemirror_mode": {
    "name": "ipython",
    "version": 3
   },
   "file_extension": ".py",
   "mimetype": "text/x-python",
   "name": "python",
   "nbconvert_exporter": "python",
   "pygments_lexer": "ipython3",
   "version": "3.12.9"
  }
 },
 "nbformat": 4,
 "nbformat_minor": 5
}
