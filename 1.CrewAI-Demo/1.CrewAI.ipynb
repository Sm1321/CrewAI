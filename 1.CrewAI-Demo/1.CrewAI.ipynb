{
 "cells": [
  {
   "cell_type": "code",
   "execution_count": 11,
   "id": "b5a5f4f0",
   "metadata": {},
   "outputs": [],
   "source": [
    "import os\n",
    "from dotenv import load_dotenv"
   ]
  },
  {
   "cell_type": "code",
   "execution_count": 12,
   "id": "f5429905",
   "metadata": {},
   "outputs": [
    {
     "data": {
      "text/plain": [
       "True"
      ]
     },
     "execution_count": 12,
     "metadata": {},
     "output_type": "execute_result"
    }
   ],
   "source": [
    "load_dotenv()"
   ]
  },
  {
   "cell_type": "markdown",
   "id": "6a37b354",
   "metadata": {},
   "source": [
    "### Topics \n",
    "- Crew\n",
    "- Agent\n",
    "- Tasks\n",
    "- LLM\n",
    "- Tool\n",
    "\n",
    "- use the crew > 0.95"
   ]
  },
  {
   "cell_type": "code",
   "execution_count": 13,
   "id": "d04aeee8",
   "metadata": {},
   "outputs": [],
   "source": [
    "! pip install -Uq openai -q"
   ]
  },
  {
   "cell_type": "code",
   "execution_count": 14,
   "id": "90ef555b",
   "metadata": {},
   "outputs": [],
   "source": [
    "# import os\n",
    "# from openai import OpenAI\n",
    "\n",
    "# api_key = os.getenv('OPENAI_API_KEY')\n",
    "\n",
    "# if api_key:\n",
    "#     os.environ[\"OPENAI_API_KEY\"] = api_key\n",
    "#     print(\"API key loaded from userdata.\")\n",
    "# else:\n",
    "#     print(\"API key not found in userdata. Please set OPENAI_API_KEY in userdata.\")\n",
    "\n",
    "# ################ OPENAI API CHECK ###################\n",
    "\n",
    "# client = OpenAI(\n",
    "#     api_key = os.environ.get(\"OPENAI_API_KEY\"),\n",
    "# )\n",
    "\n",
    "# response = client.responses.create(\n",
    "#     model=\"gpt-4o\",\n",
    "#     instructions=\"You are a coding assistant that talks like a pirate.\",\n",
    "#     input=\"How do I check if a Python object is an instance of a class?\",\n",
    "# )\n",
    "\n",
    "# print(response.output_text)"
   ]
  },
  {
   "cell_type": "code",
   "execution_count": 15,
   "id": "8c1ad996",
   "metadata": {},
   "outputs": [],
   "source": [
    "# #Install Crewai\n",
    "# ! pip install -q crewai"
   ]
  },
  {
   "cell_type": "code",
   "execution_count": 16,
   "id": "47fecda6",
   "metadata": {},
   "outputs": [],
   "source": [
    "#Step 2 : Import Libraries\n",
    "from crewai import Agent,Task,Crew"
   ]
  },
  {
   "cell_type": "code",
   "execution_count": 17,
   "id": "f6a40d32",
   "metadata": {},
   "outputs": [],
   "source": [
    "# Step 3: Define a simple agent\n",
    "agent1 = Agent(\n",
    "    name = \"Researcher\",\n",
    "    description = \"An AI agent that researches and gathers information.\",\n",
    "    goal = \"Find relevant information on a given topic.\",\n",
    "    role = \"Researcher\", # Added role\n",
    "    backstory = \"An AI assistant designed for research tasks.\" # Added backstory\n",
    ")\n"
   ]
  },
  {
   "cell_type": "code",
   "execution_count": 18,
   "id": "0392fd2a",
   "metadata": {},
   "outputs": [],
   "source": [
    "\n",
    "# Step 4: Create a simple task\n",
    "research_task = Task(\n",
    "    name = \"Research Task\",\n",
    "    description =  \"Search for the latest advancements in AI and summarize them.\",\n",
    "    agent = agent1,\n",
    "    expected_output = \"A summary of the latest advancements in AI\" # Added expected output\n",
    ")\n",
    "\n"
   ]
  },
  {
   "cell_type": "code",
   "execution_count": 19,
   "id": "5a2d07d1",
   "metadata": {},
   "outputs": [
    {
     "data": {
      "text/plain": [
       "CrewOutput(raw=\"The latest advancements in Artificial Intelligence (AI) as of 2023 highlight significant breakthroughs across various domains, including natural language processing, computer vision, robotics, and ethical AI.\\n\\n1. **Natural Language Processing (NLP)**: Innovations in NLP have been driven by models like GPT-4 and its immediate successors. These models have improved in understanding context, generating human-like text, and performing tasks such as translation and summarization with greater accuracy. Models are now also being fine-tuned for specific industries, such as healthcare and finance, enhancing their applicability in real-world scenarios.\\n\\n2. **Generative AI**: The rise of generative models has transformed creative industries. Tools powered by AI, like DALL-E and Midjourney, enable users to create images from text prompts, while advancements in music generation have led to AI composing original songs. Generative AI is also expanding into software development, enabling code generation that reduces development time.\\n\\n3. **AI in Healthcare**: AI's role in healthcare continues to evolve, with advancements in predictive analytics and diagnostics. AI systems can analyze medical images more accurately than radiologists in some cases, detecting diseases like cancer at earlier stages. Furthermore, AI-driven drug discovery accelerates the identification and development of new therapies.\\n\\n4. **Ethical AI and Governance**: With the rapid advancement of AI technologies, ethical considerations have come to the forefront. Developments in AI ethics involve creating frameworks for transparency, fairness, and accountability. Organizations and governments are increasingly focusing on AI governance to address concerns about bias, privacy, and the potential for job displacement.\\n\\n5. **AI in Autonomous Systems**: AI advancements in robotics and autonomous systems continue to gain traction. Self-driving technology has seen improvements in safety and reliability, with companies conducting more extensive testing in urban environments. Drones powered by AI are being utilized for delivery services, agricultural monitoring, and disaster response, showcasing the versatility of AI in real-world applications.\\n\\n6. **AI for Sustainability**: AI is being harnessed to tackle climate change. Innovations include algorithms that optimize energy consumption in buildings and smart grids, predictive models that aid in resource management, and AI-driven analysis to monitor environmental changes more effectively.\\n\\n7. **Quantum Computing and AI**: The intersection of quantum computing and AI holds the potential for enormous computational advantages. Researchers are exploring quantum algorithms that could significantly enhance AI training processes, enabling faster data analysis and problem solving.\\n\\n8. **Federated Learning**: This method allows AI models to be trained across multiple decentralized devices without sharing sensitive data, enhancing privacy and data security. Companies are adopting federated learning to utilize data from various sources while maintaining compliance with regulations like GDPR.\\n\\nThese advancements collectively reflect a significant transformation in the AI landscape, influencing not only technology but also society, economy, and ethics. As AI continues to evolve, it will reshape industries, create new opportunities, and pose challenges that require thoughtful consideration and proactive governance.\", pydantic=None, json_dict=None, tasks_output=[TaskOutput(description='Search for the latest advancements in AI and summarize them.', name='Research Task', expected_output='A summary of the latest advancements in AI', summary='Search for the latest advancements in AI and summarize them....', raw=\"The latest advancements in Artificial Intelligence (AI) as of 2023 highlight significant breakthroughs across various domains, including natural language processing, computer vision, robotics, and ethical AI.\\n\\n1. **Natural Language Processing (NLP)**: Innovations in NLP have been driven by models like GPT-4 and its immediate successors. These models have improved in understanding context, generating human-like text, and performing tasks such as translation and summarization with greater accuracy. Models are now also being fine-tuned for specific industries, such as healthcare and finance, enhancing their applicability in real-world scenarios.\\n\\n2. **Generative AI**: The rise of generative models has transformed creative industries. Tools powered by AI, like DALL-E and Midjourney, enable users to create images from text prompts, while advancements in music generation have led to AI composing original songs. Generative AI is also expanding into software development, enabling code generation that reduces development time.\\n\\n3. **AI in Healthcare**: AI's role in healthcare continues to evolve, with advancements in predictive analytics and diagnostics. AI systems can analyze medical images more accurately than radiologists in some cases, detecting diseases like cancer at earlier stages. Furthermore, AI-driven drug discovery accelerates the identification and development of new therapies.\\n\\n4. **Ethical AI and Governance**: With the rapid advancement of AI technologies, ethical considerations have come to the forefront. Developments in AI ethics involve creating frameworks for transparency, fairness, and accountability. Organizations and governments are increasingly focusing on AI governance to address concerns about bias, privacy, and the potential for job displacement.\\n\\n5. **AI in Autonomous Systems**: AI advancements in robotics and autonomous systems continue to gain traction. Self-driving technology has seen improvements in safety and reliability, with companies conducting more extensive testing in urban environments. Drones powered by AI are being utilized for delivery services, agricultural monitoring, and disaster response, showcasing the versatility of AI in real-world applications.\\n\\n6. **AI for Sustainability**: AI is being harnessed to tackle climate change. Innovations include algorithms that optimize energy consumption in buildings and smart grids, predictive models that aid in resource management, and AI-driven analysis to monitor environmental changes more effectively.\\n\\n7. **Quantum Computing and AI**: The intersection of quantum computing and AI holds the potential for enormous computational advantages. Researchers are exploring quantum algorithms that could significantly enhance AI training processes, enabling faster data analysis and problem solving.\\n\\n8. **Federated Learning**: This method allows AI models to be trained across multiple decentralized devices without sharing sensitive data, enhancing privacy and data security. Companies are adopting federated learning to utilize data from various sources while maintaining compliance with regulations like GDPR.\\n\\nThese advancements collectively reflect a significant transformation in the AI landscape, influencing not only technology but also society, economy, and ethics. As AI continues to evolve, it will reshape industries, create new opportunities, and pose challenges that require thoughtful consideration and proactive governance.\", pydantic=None, json_dict=None, agent='Researcher', output_format=<OutputFormat.RAW: 'raw'>)], token_usage=UsageMetrics(total_tokens=774, prompt_tokens=177, cached_prompt_tokens=0, completion_tokens=597, successful_requests=1))"
      ]
     },
     "execution_count": 19,
     "metadata": {},
     "output_type": "execute_result"
    }
   ],
   "source": [
    "# Step 5: Initialize a crew (single agent for now)\n",
    "crew = Crew(agents = [agent1], tasks = [research_task])\n",
    "crew.kickoff()"
   ]
  },
  {
   "cell_type": "code",
   "execution_count": 20,
   "id": "9cbdf2d7",
   "metadata": {},
   "outputs": [],
   "source": [
    "# # First cell\n",
    "# from crewai import LLM\n",
    "\n",
    "\n",
    "# # Basic configuration\n",
    "# llm = LLM(model=\"gpt-4\")\n",
    "\n",
    "# # Advanced configuration with detailed parameters\n",
    "# llm = LLM(\n",
    "#     model=\"gpt-4o-mini\",\n",
    "#     temperature=0.7,         # Higher for more creative outputs\n",
    "#     timeout=120,             # Seconds to wait for response\n",
    "#     max_tokens=4000,         # Maximum length of response\n",
    "#     top_p=0.9,               # Nucleus sampling parameter\n",
    "#     frequency_penalty=0.1,   # Reduce repetition\n",
    "#     presence_penalty=0.1,    # Encourage topic diversity\n",
    "#     response_format={\"type\": \"json\"}, # For structured outputs\n",
    "#     seed=42                  # For reproducible results\n",
    "# )\n"
   ]
  },
  {
   "cell_type": "markdown",
   "id": "3353e16a",
   "metadata": {},
   "source": [
    "## Groq LLM"
   ]
  },
  {
   "cell_type": "code",
   "execution_count": 21,
   "id": "55bc241f",
   "metadata": {},
   "outputs": [],
   "source": [
    "# First cell\n",
    "from crewai import LLM\n"
   ]
  },
  {
   "cell_type": "code",
   "execution_count": 22,
   "id": "8ef456d5",
   "metadata": {},
   "outputs": [],
   "source": [
    "# Advanced configuration with detailed parameters\n",
    "llm = LLM(\n",
    "    model = \"groq/llama-3.2-9b-text-preview\",\n",
    "    temperature = 0.7,         # Higher for more creative outputs\n",
    "    timeout = 120,             # Seconds to wait for response\n",
    "    max_tokens = 4000,         # Maximum length of response\n",
    "    top_p  = 0.9,               # Nucleus sampling parameter\n",
    "    frequency_penalty = 0.1,   # Reduce repetition\n",
    "    presence_penalty=  0.1,    # Encourage topic diversity\n",
    "    response_format = {\"type\": \"json\"}, # For structured outputs\n",
    "    seed=42                  # For reproducible results\n",
    ")\n"
   ]
  },
  {
   "cell_type": "code",
   "execution_count": 23,
   "id": "97c81f5a",
   "metadata": {},
   "outputs": [
    {
     "data": {
      "text/plain": [
       "<crewai.llm.LLM at 0x1f35cf7a1b0>"
      ]
     },
     "execution_count": 23,
     "metadata": {},
     "output_type": "execute_result"
    }
   ],
   "source": [
    "llm"
   ]
  },
  {
   "cell_type": "markdown",
   "id": "082ffc1f",
   "metadata": {},
   "source": [
    "### Multi-Agent Colabaration and Workflow"
   ]
  },
  {
   "cell_type": "code",
   "execution_count": 24,
   "id": "383b9e48",
   "metadata": {},
   "outputs": [],
   "source": [
    "# Step 6: Define multiple agents\n",
    "agent2 = Agent(\n",
    "    name=\"Writer\",\n",
    "    description=\"An AI agent that writes research reports\",\n",
    "    goal=\"Create structured reports from gathered research data.\",\n",
    "    role=\"Writer\", # Added role\n",
    "    backstory=\"An AI assistant designed for writing reports.\" # Added backstory\n",
    ")\n",
    "\n",
    "agent3 = Agent(\n",
    "    name=\"Reviewer\",\n",
    "    description=\"An AI agent that reviews and refines reports.\",\n",
    "    goal=\"Ensure clarity, grammar, and accuracy in written content.\",\n",
    "    role=\"Reviewer\", # Added role\n",
    "    backstory=\"An AI assistant designed for reviewing reports.\" # Added backstory\n",
    ")"
   ]
  },
  {
   "cell_type": "code",
   "execution_count": 25,
   "id": "93f3dd90",
   "metadata": {},
   "outputs": [],
   "source": [
    "# Step 7: Assign tasks to each agent\n",
    "gather_info = Task(\n",
    "    name=\"Gather Information\",\n",
    "    description=\"Find the latest research papers and summarize key findings.\",\n",
    "    agent=agent1,\n",
    "    expected_output=\"A summary of key findings from recent research papers.\" # Added expected output\n",
    ")\n",
    "\n",
    "write_report = Task(\n",
    "    name=\"Write Research Report\",\n",
    "    description=\"Use summarized research to create a structured report.\",\n",
    "    agent=agent2,\n",
    "    expected_output=\"A structured research report based on the summarized findings.\" # Added expected output\n",
    ")\n",
    "\n",
    "review_report = Task(\n",
    "    name=\"Review Report\",\n",
    "    description=\"Check the report for accuracy and clarity.\",\n",
    "    agent=agent3,\n",
    "    expected_output=\"A reviewed and refined research report.\" # Added expected output\n",
    ")"
   ]
  },
  {
   "cell_type": "code",
   "execution_count": 26,
   "id": "676978b9",
   "metadata": {},
   "outputs": [
    {
     "data": {
      "text/plain": [
       "CrewOutput(raw='**Structured Research Report**\\n\\n**Title:** Summary of Key Findings from Recent Research (2023)\\n\\n**Introduction:**  \\nThis report synthesizes key findings from recent research published in 2023 across various fields, including Artificial Intelligence in Healthcare, Climate Change and Agriculture, Mental Health and Social Media Use, Renewable Energy Innovations, and Vaccination and Public Health. The findings highlight significant advancements, challenges, and insights relevant to stakeholders in these areas.\\n\\n---\\n\\n**1. Artificial Intelligence in Healthcare**\\n\\n- **Title of Study:** The Impact of Artificial Intelligence on Diagnostic Accuracy in Healthcare  \\n- **Key Findings:**\\n   - AI significantly improves diagnostic accuracy, particularly through deep learning algorithms.\\n   - AI systems outperform traditional diagnostic methods when identifying serious conditions such as cancer and heart diseases.\\n   - Integration of AI into clinical workflows is shown to enhance patient outcomes and reduce diagnostic errors.\\n\\n**Importance:** This research underscores the potential of AI to revolutionize healthcare diagnostics, leading to timely and accurate medical interventions.\\n\\n---\\n\\n**2. Climate Change and Agriculture**\\n\\n- **Title of Study:** Adaptation Strategies for Climate-Resilient Agriculture  \\n- **Key Findings:**\\n   - Effective adaptation strategies include precision farming, crop rotation, and sustainable water management.\\n   - Farmers using localized climate data can increase resilience to climate variability.\\n   - Improved agricultural practices are linked to better crop yields and enhanced food security.\\n\\n**Importance:** This research emphasizes the critical need for farmers to adapt to climate changes to ensure sustainable agricultural practices and food availability.\\n\\n---\\n\\n**3. Mental Health and Social Media Use**\\n\\n- **Title of Study:** Social Media Use and Mental Health Among Adolescents: A Longitudinal Study  \\n- **Key Findings:**\\n   - High social media engagement correlates with increased anxiety and depression in adolescents.\\n   - The study calls attention to the importance of monitoring social media use among teenagers.\\n   - Proactive measures for parents and educators are deemed essential to mitigate negative mental health impacts.\\n\\n**Importance:** The implications of this study are significant for mental health awareness and the need for strategies to ensure healthy social media habits among young people.\\n\\n---\\n\\n**4. Renewable Energy Innovations**\\n\\n- **Title of Study:** Advancements in Solar Panel Technology: Efficiency and Sustainability  \\n- **Key Findings:**\\n   - Recent innovations have led to higher efficiency rates and lower costs in solar technology.\\n   - Perovskite solar cells are highlighted as outperforming traditional silicon-based cells.\\n   - Future development of these technologies could reduce fossil fuel dependence and support global energy demands.\\n\\n**Importance:** This research highlights the importance of continued investment in renewable energy technologies to combat climate change and promote sustainable energy sources.\\n\\n---\\n\\n**5. Vaccination and Public Health**\\n\\n- **Title of Study:** Vaccination Rates and Public Health Outcomes in the Wake of COVID-19  \\n- **Key Findings:**\\n   - Analysis of vaccination trends post-COVID-19 indicates a significant decline in disease outbreaks due to increased vaccination coverage.\\n   - Correlation observed between vaccination rates and improvements in public health metrics, including reduced hospitalization.\\n   - Calls for enhanced public health campaigns to tackle vaccine hesitancy and improve vaccination rates.\\n\\n**Importance:** This study emphasizes the role of vaccinations in safeguarding public health and the necessity of continuous education around vaccine efficacy.\\n\\n---\\n\\n**Conclusion:**  \\nThe findings presented in this report showcase significant advancements and challenges in healthcare, agriculture, mental health, energy sustainability, and public health. Stakeholders, including policymakers, educators, healthcare professionals, and the agricultural community, should take note of these insights to foster improvements and tackle existing challenges.\\n\\n**Recommendations:**\\n1. Integrate AI technologies in healthcare for enhanced diagnostic capabilities.\\n2. Promote adaptive agricultural practices to combat climate fluctuations.\\n3. Encourage awareness and regulation of social media usage among youth.\\n4. Support innovations in renewable energy to aid in the transition from fossil fuels.\\n5. Enhance public health initiatives focused on vaccination education and accessibility.', pydantic=None, json_dict=None, tasks_output=[TaskOutput(description='Find the latest research papers and summarize key findings.', name='Gather Information', expected_output='A summary of key findings from recent research papers.', summary='Find the latest research papers and summarize key findings....', raw='Here are summaries of key findings from recent research papers published in various fields:\\n\\n1. **Artificial Intelligence in Healthcare (2023)**:\\n   - **Title**: \"The Impact of Artificial Intelligence on Diagnostic Accuracy in Healthcare\"\\n   - **Key Findings**: This paper examines the role of AI in improving diagnostic accuracy across various diseases. The authors found that AI systems, particularly those that utilize deep learning algorithms, significantly outperformed traditional diagnostic methods in identifying conditions such as cancer and heart diseases. The study concluded that integrating AI into clinical workflows could enhance patient outcomes and reduce diagnostic errors.\\n\\n2. **Climate Change and Agriculture (2023)**:\\n   - **Title**: \"Adaptation Strategies for Climate-Resilient Agriculture\"\\n   - **Key Findings**: Researchers investigated various adaptation strategies for agriculture in response to climate change. The paper highlighted the effectiveness of precision farming techniques, crop rotation, and sustainable water management practices. It was noted that farmers who adapt their practices based on localized climate data show increased resilience against climate variability, leading to improved crop yields and food security.\\n\\n3. **Mental Health and Social Media Use (2023)**:\\n   - **Title**: \"Social Media Use and Mental Health Among Adolescents: A Longitudinal Study\"\\n   - **Key Findings**: This longitudinal research tracked the mental health of adolescents in relation to their social media usage over five years. The findings suggest that high levels of social media engagement were linked to increased rates of anxiety and depression among teenagers. The paper emphasized the importance of monitoring social media use and suggested proactive measures for parents and educators to mitigate potential adverse effects.\\n\\n4. **Renewable Energy Innovations (2023)**:\\n   - **Title**: \"Advancements in Solar Panel Technology: Efficiency and Sustainability\"\\n   - **Key Findings**: The paper reviews recent advancements in solar technology that have led to higher efficiency rates and lower production costs. Innovations in photovoltaic materials were highlighted, showing that perovskite solar cells have the potential to outperform traditional silicon-based cells. The authors argue that with further development, these technologies could substantially reduce reliance on fossil fuels and contribute significantly to global energy needs.\\n\\n5. **Vaccination and Public Health (2023)**:\\n   - **Title**: \"Vaccination Rates and Public Health Outcomes in the Wake of COVID-19\"\\n   - **Key Findings**: This study analyzed vaccination trends post-COVID-19 pandemic and their correlation with public health metrics such as disease prevalence and hospitalization rates. It found that increased vaccination coverage has led to a significant decline in outbreaks of vaccine-preventable diseases. The paper calls for enhanced public health campaigns to address vaccine hesitancy and improve vaccination rates across communities.\\n\\nThese summaries represent some of the latest research findings across diverse areas, showcasing advancements and challenges that are relevant for various stakeholders.', pydantic=None, json_dict=None, agent='Researcher', output_format=<OutputFormat.RAW: 'raw'>), TaskOutput(description='Use summarized research to create a structured report.', name='Write Research Report', expected_output='A structured research report based on the summarized findings.', summary='Use summarized research to create a structured report....', raw='**Structured Research Report**\\n\\n**Title:** Summary of Key Findings from Recent Research (2023)\\n\\n**Introduction:**\\nThis report synthesizes key findings from recent research published in 2023 across various fields, including Artificial Intelligence in Healthcare, Climate Change and Agriculture, Mental Health and Social Media Use, Renewable Energy Innovations, and Vaccination and Public Health. The findings highlight significant advancements, challenges, and insights relevant to stakeholders in these areas.\\n\\n---\\n\\n**1. Artificial Intelligence in Healthcare**\\n\\n- **Title of Study:** The Impact of Artificial Intelligence on Diagnostic Accuracy in Healthcare\\n- **Key Findings:**\\n   - AI significantly improves diagnostic accuracy, particularly through deep learning algorithms.\\n   - AI systems outperform traditional diagnostic methods when identifying serious conditions such as cancer and heart diseases.\\n   - Integration of AI into clinical workflows is shown to enhance patient outcomes and reduce diagnostic errors.\\n\\n**Importance:** This research underscores the potential of AI to revolutionize healthcare diagnostics, leading to timely and accurate medical interventions.\\n\\n---\\n\\n**2. Climate Change and Agriculture**\\n\\n- **Title of Study:** Adaptation Strategies for Climate-Resilient Agriculture\\n- **Key Findings:**\\n   - Effective adaptation strategies include precision farming, crop rotation, and sustainable water management.\\n   - Farmers using localized climate data can increase resilience to climate variability.\\n   - Improved agricultural practices are linked to better crop yields and enhanced food security.\\n\\n**Importance:** This research emphasizes the critical need for farmers to adapt to climate changes to ensure sustainable agricultural practices and food availability.\\n\\n---\\n\\n**3. Mental Health and Social Media Use**\\n\\n- **Title of Study:** Social Media Use and Mental Health Among Adolescents: A Longitudinal Study\\n- **Key Findings:**\\n   - High social media engagement correlates with increased anxiety and depression in adolescents.\\n   - The study calls attention to the importance of monitoring social media use among teenagers.\\n   - Proactive measures for parents and educators are deemed essential to mitigate negative mental health impacts.\\n\\n**Importance:** The implications of this study are significant for mental health awareness and the need for strategies to ensure healthy social media habits among young people.\\n\\n---\\n\\n**4. Renewable Energy Innovations**\\n\\n- **Title of Study:** Advancements in Solar Panel Technology: Efficiency and Sustainability\\n- **Key Findings:**\\n   - Recent innovations have led to higher efficiency rates and lower costs in solar technology.\\n   - Perovskite solar cells are highlighted as outperforming traditional silicon-based cells.\\n   - Future development of these technologies could reduce fossil fuel dependence and support global energy demands.\\n\\n**Importance:** This research highlights the importance of continued investment in renewable energy technologies to combat climate change and promote sustainable energy sources.\\n\\n---\\n\\n**5. Vaccination and Public Health**\\n\\n- **Title of Study:** Vaccination Rates and Public Health Outcomes in the Wake of COVID-19\\n- **Key Findings:**\\n   - Analysis of vaccination trends post-COVID-19 indicates a significant decline in disease outbreaks due to increased vaccination coverage.\\n   - Correlation observed between vaccination rates and improvements in public health metrics, including reduced hospitalization.\\n   - Calls for enhanced public health campaigns to tackle vaccine hesitancy and improve vaccination rates.\\n\\n**Importance:** This study emphasizes the role of vaccinations in safeguarding public health and the necessity of continuous education around vaccine efficacy.\\n\\n---\\n\\n**Conclusion:**\\nThe findings presented in this report showcase significant advancements and challenges in healthcare, agriculture, mental health, energy sustainability, and public health. Stakeholders, including policymakers, educators, healthcare professionals, and the agricultural community, should take note of these insights to foster improvements and tackle existing challenges.\\n\\n**Recommendations:**\\n1. Integrate AI technologies in healthcare for enhanced diagnostic capabilities.\\n2. Promote adaptive agricultural practices to combat climate fluctuations.\\n3. Encourage awareness and regulation of social media usage among youth.\\n4. Support innovations in renewable energy to aid transition from fossil fuels.\\n5. Enhance public health initiatives focused on vaccination education and accessibility.', pydantic=None, json_dict=None, agent='Writer', output_format=<OutputFormat.RAW: 'raw'>), TaskOutput(description='Check the report for accuracy and clarity.', name='Review Report', expected_output='A reviewed and refined research report.', summary='Check the report for accuracy and clarity....', raw='**Structured Research Report**\\n\\n**Title:** Summary of Key Findings from Recent Research (2023)\\n\\n**Introduction:**  \\nThis report synthesizes key findings from recent research published in 2023 across various fields, including Artificial Intelligence in Healthcare, Climate Change and Agriculture, Mental Health and Social Media Use, Renewable Energy Innovations, and Vaccination and Public Health. The findings highlight significant advancements, challenges, and insights relevant to stakeholders in these areas.\\n\\n---\\n\\n**1. Artificial Intelligence in Healthcare**\\n\\n- **Title of Study:** The Impact of Artificial Intelligence on Diagnostic Accuracy in Healthcare  \\n- **Key Findings:**\\n   - AI significantly improves diagnostic accuracy, particularly through deep learning algorithms.\\n   - AI systems outperform traditional diagnostic methods when identifying serious conditions such as cancer and heart diseases.\\n   - Integration of AI into clinical workflows is shown to enhance patient outcomes and reduce diagnostic errors.\\n\\n**Importance:** This research underscores the potential of AI to revolutionize healthcare diagnostics, leading to timely and accurate medical interventions.\\n\\n---\\n\\n**2. Climate Change and Agriculture**\\n\\n- **Title of Study:** Adaptation Strategies for Climate-Resilient Agriculture  \\n- **Key Findings:**\\n   - Effective adaptation strategies include precision farming, crop rotation, and sustainable water management.\\n   - Farmers using localized climate data can increase resilience to climate variability.\\n   - Improved agricultural practices are linked to better crop yields and enhanced food security.\\n\\n**Importance:** This research emphasizes the critical need for farmers to adapt to climate changes to ensure sustainable agricultural practices and food availability.\\n\\n---\\n\\n**3. Mental Health and Social Media Use**\\n\\n- **Title of Study:** Social Media Use and Mental Health Among Adolescents: A Longitudinal Study  \\n- **Key Findings:**\\n   - High social media engagement correlates with increased anxiety and depression in adolescents.\\n   - The study calls attention to the importance of monitoring social media use among teenagers.\\n   - Proactive measures for parents and educators are deemed essential to mitigate negative mental health impacts.\\n\\n**Importance:** The implications of this study are significant for mental health awareness and the need for strategies to ensure healthy social media habits among young people.\\n\\n---\\n\\n**4. Renewable Energy Innovations**\\n\\n- **Title of Study:** Advancements in Solar Panel Technology: Efficiency and Sustainability  \\n- **Key Findings:**\\n   - Recent innovations have led to higher efficiency rates and lower costs in solar technology.\\n   - Perovskite solar cells are highlighted as outperforming traditional silicon-based cells.\\n   - Future development of these technologies could reduce fossil fuel dependence and support global energy demands.\\n\\n**Importance:** This research highlights the importance of continued investment in renewable energy technologies to combat climate change and promote sustainable energy sources.\\n\\n---\\n\\n**5. Vaccination and Public Health**\\n\\n- **Title of Study:** Vaccination Rates and Public Health Outcomes in the Wake of COVID-19  \\n- **Key Findings:**\\n   - Analysis of vaccination trends post-COVID-19 indicates a significant decline in disease outbreaks due to increased vaccination coverage.\\n   - Correlation observed between vaccination rates and improvements in public health metrics, including reduced hospitalization.\\n   - Calls for enhanced public health campaigns to tackle vaccine hesitancy and improve vaccination rates.\\n\\n**Importance:** This study emphasizes the role of vaccinations in safeguarding public health and the necessity of continuous education around vaccine efficacy.\\n\\n---\\n\\n**Conclusion:**  \\nThe findings presented in this report showcase significant advancements and challenges in healthcare, agriculture, mental health, energy sustainability, and public health. Stakeholders, including policymakers, educators, healthcare professionals, and the agricultural community, should take note of these insights to foster improvements and tackle existing challenges.\\n\\n**Recommendations:**\\n1. Integrate AI technologies in healthcare for enhanced diagnostic capabilities.\\n2. Promote adaptive agricultural practices to combat climate fluctuations.\\n3. Encourage awareness and regulation of social media usage among youth.\\n4. Support innovations in renewable energy to aid in the transition from fossil fuels.\\n5. Enhance public health initiatives focused on vaccination education and accessibility.', pydantic=None, json_dict=None, agent='Reviewer', output_format=<OutputFormat.RAW: 'raw'>)], token_usage=UsageMetrics(total_tokens=5392, prompt_tokens=2632, cached_prompt_tokens=0, completion_tokens=2760, successful_requests=4))"
      ]
     },
     "execution_count": 26,
     "metadata": {},
     "output_type": "execute_result"
    }
   ],
   "source": [
    "# Step 8: Create a Crew with multiple agents\n",
    "multi_agent_crew = Crew(\n",
    "    agents = [agent1, agent2, agent3],\n",
    "    tasks = [gather_info, write_report, review_report]\n",
    ")\n",
    "\n",
    "multi_agent_crew.kickoff()"
   ]
  },
  {
   "cell_type": "code",
   "execution_count": null,
   "id": "0b8dbc6c",
   "metadata": {},
   "outputs": [],
   "source": []
  },
  {
   "cell_type": "code",
   "execution_count": null,
   "id": "09808b77",
   "metadata": {},
   "outputs": [],
   "source": []
  },
  {
   "cell_type": "code",
   "execution_count": null,
   "id": "716cb47e",
   "metadata": {},
   "outputs": [],
   "source": []
  },
  {
   "cell_type": "code",
   "execution_count": null,
   "id": "a8941cf9",
   "metadata": {},
   "outputs": [],
   "source": []
  },
  {
   "cell_type": "code",
   "execution_count": null,
   "id": "588890a6",
   "metadata": {},
   "outputs": [],
   "source": []
  }
 ],
 "metadata": {
  "kernelspec": {
   "display_name": "crewai_env",
   "language": "python",
   "name": "python3"
  },
  "language_info": {
   "codemirror_mode": {
    "name": "ipython",
    "version": 3
   },
   "file_extension": ".py",
   "mimetype": "text/x-python",
   "name": "python",
   "nbconvert_exporter": "python",
   "pygments_lexer": "ipython3",
   "version": "3.12.9"
  }
 },
 "nbformat": 4,
 "nbformat_minor": 5
}
